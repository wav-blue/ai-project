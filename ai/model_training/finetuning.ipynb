{
 "cells": [
  {
   "cell_type": "code",
   "execution_count": 76,
   "id": "1a51409b-66be-48cf-8a38-29d702eb30aa",
   "metadata": {},
   "outputs": [],
   "source": [
    "import pandas as pd"
   ]
  },
  {
   "cell_type": "markdown",
   "id": "263e61b8-ee89-48d4-84d4-68883377b40d",
   "metadata": {},
   "source": [
    "train_test_split() : 학습/테스트 데이터 세트 분리"
   ]
  },
  {
   "cell_type": "code",
   "execution_count": 10,
   "id": "9bc6d298-d151-4627-8602-72f259748f9f",
   "metadata": {},
   "outputs": [],
   "source": [
    "from sklearn.model_selection import train_test_split\n",
    "import tensorflow as tf\n",
    "from transformers import TFBertModel, BertTokenizer, TFBertForSequenceClassification"
   ]
  },
  {
   "cell_type": "code",
   "execution_count": 11,
   "id": "ec6a978c-47d4-4d51-80f0-886104574f8f",
   "metadata": {},
   "outputs": [],
   "source": [
    "# 경고를 무시함\n",
    "import warnings\n",
    "warnings.filterwarnings('ignore')"
   ]
  },
  {
   "cell_type": "markdown",
   "id": "ab5f9ea6-66af-4c92-be63-6ad320763829",
   "metadata": {},
   "source": [
    "# 데이터 전처리"
   ]
  },
  {
   "cell_type": "code",
   "execution_count": 106,
   "id": "4f56f4ef-af83-4145-bd69-3e76763be581",
   "metadata": {},
   "outputs": [
    {
     "data": {
      "text/html": [
       "<div>\n",
       "<style scoped>\n",
       "    .dataframe tbody tr th:only-of-type {\n",
       "        vertical-align: middle;\n",
       "    }\n",
       "\n",
       "    .dataframe tbody tr th {\n",
       "        vertical-align: top;\n",
       "    }\n",
       "\n",
       "    .dataframe thead th {\n",
       "        text-align: right;\n",
       "    }\n",
       "</style>\n",
       "<table border=\"1\" class=\"dataframe\">\n",
       "  <thead>\n",
       "    <tr style=\"text-align: right;\">\n",
       "      <th></th>\n",
       "      <th>Q</th>\n",
       "      <th>A</th>\n",
       "      <th>label</th>\n",
       "    </tr>\n",
       "  </thead>\n",
       "  <tbody>\n",
       "    <tr>\n",
       "      <th>0</th>\n",
       "      <td>12시 땡!</td>\n",
       "      <td>하루가 또 가네요.</td>\n",
       "      <td>0</td>\n",
       "    </tr>\n",
       "    <tr>\n",
       "      <th>1</th>\n",
       "      <td>1지망 학교 떨어졌어</td>\n",
       "      <td>위로해 드립니다.</td>\n",
       "      <td>0</td>\n",
       "    </tr>\n",
       "    <tr>\n",
       "      <th>2</th>\n",
       "      <td>3박4일 놀러가고 싶다</td>\n",
       "      <td>여행은 언제나 좋죠.</td>\n",
       "      <td>0</td>\n",
       "    </tr>\n",
       "    <tr>\n",
       "      <th>3</th>\n",
       "      <td>3박4일 정도 놀러가고 싶다</td>\n",
       "      <td>여행은 언제나 좋죠.</td>\n",
       "      <td>0</td>\n",
       "    </tr>\n",
       "    <tr>\n",
       "      <th>4</th>\n",
       "      <td>PPL 심하네</td>\n",
       "      <td>눈살이 찌푸려지죠.</td>\n",
       "      <td>0</td>\n",
       "    </tr>\n",
       "  </tbody>\n",
       "</table>\n",
       "</div>"
      ],
      "text/plain": [
       "                 Q            A  label\n",
       "0           12시 땡!   하루가 또 가네요.      0\n",
       "1      1지망 학교 떨어졌어    위로해 드립니다.      0\n",
       "2     3박4일 놀러가고 싶다  여행은 언제나 좋죠.      0\n",
       "3  3박4일 정도 놀러가고 싶다  여행은 언제나 좋죠.      0\n",
       "4          PPL 심하네   눈살이 찌푸려지죠.      0"
      ]
     },
     "execution_count": 106,
     "metadata": {},
     "output_type": "execute_result"
    }
   ],
   "source": [
    "# 데이터 읽어오기\n",
    "df = pd.read_csv(\"https://raw.githubusercontent.com/songys/Chatbot_data/master/ChatbotData.csv\", delimiter=',')\n",
    " \n",
    "df.head()"
   ]
  },
  {
   "cell_type": "code",
   "execution_count": 107,
   "id": "07d6b7c4-6d2f-423f-907f-43cfb71fde5c",
   "metadata": {},
   "outputs": [
    {
     "data": {
      "text/html": [
       "<div>\n",
       "<style scoped>\n",
       "    .dataframe tbody tr th:only-of-type {\n",
       "        vertical-align: middle;\n",
       "    }\n",
       "\n",
       "    .dataframe tbody tr th {\n",
       "        vertical-align: top;\n",
       "    }\n",
       "\n",
       "    .dataframe thead th {\n",
       "        text-align: right;\n",
       "    }\n",
       "</style>\n",
       "<table border=\"1\" class=\"dataframe\">\n",
       "  <thead>\n",
       "    <tr style=\"text-align: right;\">\n",
       "      <th></th>\n",
       "      <th>Q</th>\n",
       "      <th>label</th>\n",
       "    </tr>\n",
       "  </thead>\n",
       "  <tbody>\n",
       "    <tr>\n",
       "      <th>5290</th>\n",
       "      <td>1000일 만난 여자친구와 이별</td>\n",
       "      <td>1</td>\n",
       "    </tr>\n",
       "    <tr>\n",
       "      <th>5291</th>\n",
       "      <td>10년 연애. 헤어졌습니다.</td>\n",
       "      <td>1</td>\n",
       "    </tr>\n",
       "    <tr>\n",
       "      <th>5292</th>\n",
       "      <td>10년 연애사 되돌아보니 다 부질없네</td>\n",
       "      <td>1</td>\n",
       "    </tr>\n",
       "    <tr>\n",
       "      <th>5293</th>\n",
       "      <td>10년 연예의끝</td>\n",
       "      <td>1</td>\n",
       "    </tr>\n",
       "    <tr>\n",
       "      <th>5294</th>\n",
       "      <td>10년만나다 헤어지네</td>\n",
       "      <td>1</td>\n",
       "    </tr>\n",
       "  </tbody>\n",
       "</table>\n",
       "</div>"
      ],
      "text/plain": [
       "                         Q  label\n",
       "5290     1000일 만난 여자친구와 이별      1\n",
       "5291       10년 연애. 헤어졌습니다.      1\n",
       "5292  10년 연애사 되돌아보니 다 부질없네      1\n",
       "5293              10년 연예의끝      1\n",
       "5294           10년만나다 헤어지네      1"
      ]
     },
     "execution_count": 107,
     "metadata": {},
     "output_type": "execute_result"
    }
   ],
   "source": [
    "# 라벨: 0인 데이터(중립) 삭제\n",
    "df_need = df[df.label != 0]\n",
    "# 컬럼: Q, label만 추출\n",
    "df_need = df_need.loc[:, ['Q', 'label']]\n",
    "df_need.head()"
   ]
  },
  {
   "cell_type": "code",
   "execution_count": 108,
   "id": "7aa20d91-ff45-40f0-8240-0c885c35297a",
   "metadata": {},
   "outputs": [
    {
     "data": {
      "text/html": [
       "<div>\n",
       "<style scoped>\n",
       "    .dataframe tbody tr th:only-of-type {\n",
       "        vertical-align: middle;\n",
       "    }\n",
       "\n",
       "    .dataframe tbody tr th {\n",
       "        vertical-align: top;\n",
       "    }\n",
       "\n",
       "    .dataframe thead th {\n",
       "        text-align: right;\n",
       "    }\n",
       "</style>\n",
       "<table border=\"1\" class=\"dataframe\">\n",
       "  <thead>\n",
       "    <tr style=\"text-align: right;\">\n",
       "      <th></th>\n",
       "      <th>Q</th>\n",
       "      <th>label</th>\n",
       "    </tr>\n",
       "  </thead>\n",
       "  <tbody>\n",
       "    <tr>\n",
       "      <th>5290</th>\n",
       "      <td>1000일 만난 여자친구와 이별</td>\n",
       "      <td>0</td>\n",
       "    </tr>\n",
       "    <tr>\n",
       "      <th>5291</th>\n",
       "      <td>10년 연애. 헤어졌습니다.</td>\n",
       "      <td>0</td>\n",
       "    </tr>\n",
       "    <tr>\n",
       "      <th>5292</th>\n",
       "      <td>10년 연애사 되돌아보니 다 부질없네</td>\n",
       "      <td>0</td>\n",
       "    </tr>\n",
       "    <tr>\n",
       "      <th>5293</th>\n",
       "      <td>10년 연예의끝</td>\n",
       "      <td>0</td>\n",
       "    </tr>\n",
       "    <tr>\n",
       "      <th>5294</th>\n",
       "      <td>10년만나다 헤어지네</td>\n",
       "      <td>0</td>\n",
       "    </tr>\n",
       "  </tbody>\n",
       "</table>\n",
       "</div>"
      ],
      "text/plain": [
       "                         Q  label\n",
       "5290     1000일 만난 여자친구와 이별      0\n",
       "5291       10년 연애. 헤어졌습니다.      0\n",
       "5292  10년 연애사 되돌아보니 다 부질없네      0\n",
       "5293              10년 연예의끝      0\n",
       "5294           10년만나다 헤어지네      0"
      ]
     },
     "execution_count": 108,
     "metadata": {},
     "output_type": "execute_result"
    }
   ],
   "source": [
    "# label값을 0, 1만 가지도록 수정\n",
    "df_need['label'] = df_need['label'] - 1\n",
    "df_need.head() # 확인용 출력"
   ]
  },
  {
   "cell_type": "markdown",
   "id": "c8cf851c-9873-4fc6-a4ab-573e28e00462",
   "metadata": {
    "tags": []
   },
   "source": [
    "### 데이터 전처리(추가)\n",
    "\n",
    "##### !! 부정이 더 많이 나오는 문제 발생\n",
    "\n",
    "-> 확인 결과 부정이 데이터가 더 많았음<br/>\n",
    "-> 긍부정 갯수를 동일하게 하여 다시 학습"
   ]
  },
  {
   "cell_type": "code",
   "execution_count": 109,
   "id": "723a9143-cb63-44ff-9479-8744cfedbfe1",
   "metadata": {},
   "outputs": [
    {
     "data": {
      "text/html": [
       "<div>\n",
       "<style scoped>\n",
       "    .dataframe tbody tr th:only-of-type {\n",
       "        vertical-align: middle;\n",
       "    }\n",
       "\n",
       "    .dataframe tbody tr th {\n",
       "        vertical-align: top;\n",
       "    }\n",
       "\n",
       "    .dataframe thead th {\n",
       "        text-align: right;\n",
       "    }\n",
       "</style>\n",
       "<table border=\"1\" class=\"dataframe\">\n",
       "  <thead>\n",
       "    <tr style=\"text-align: right;\">\n",
       "      <th></th>\n",
       "      <th>Q</th>\n",
       "      <th>label</th>\n",
       "    </tr>\n",
       "  </thead>\n",
       "  <tbody>\n",
       "    <tr>\n",
       "      <th>8860</th>\n",
       "      <td>짝사랑만큼 고통스러운 건 없겠지.</td>\n",
       "      <td>1</td>\n",
       "    </tr>\n",
       "    <tr>\n",
       "      <th>8861</th>\n",
       "      <td>1년 넘게 만났는데 지금도 불타올라</td>\n",
       "      <td>1</td>\n",
       "    </tr>\n",
       "    <tr>\n",
       "      <th>8862</th>\n",
       "      <td>1년 동거 중인데 계속 좋아</td>\n",
       "      <td>1</td>\n",
       "    </tr>\n",
       "    <tr>\n",
       "      <th>8863</th>\n",
       "      <td>1년 동거하고 결혼했어</td>\n",
       "      <td>1</td>\n",
       "    </tr>\n",
       "    <tr>\n",
       "      <th>8864</th>\n",
       "      <td>1년 만났는데도 그 사람에 대해 잘 모르겠어</td>\n",
       "      <td>1</td>\n",
       "    </tr>\n",
       "  </tbody>\n",
       "</table>\n",
       "</div>"
      ],
      "text/plain": [
       "                             Q  label\n",
       "8860        짝사랑만큼 고통스러운 건 없겠지.      1\n",
       "8861       1년 넘게 만났는데 지금도 불타올라      1\n",
       "8862           1년 동거 중인데 계속 좋아      1\n",
       "8863              1년 동거하고 결혼했어      1\n",
       "8864  1년 만났는데도 그 사람에 대해 잘 모르겠어      1"
      ]
     },
     "execution_count": 109,
     "metadata": {},
     "output_type": "execute_result"
    }
   ],
   "source": [
    "df_positive = df_need[df_need.label == 1]\n",
    "df_positive.head()"
   ]
  },
  {
   "cell_type": "code",
   "execution_count": 110,
   "id": "adabc73f-e99b-4ba9-9b6e-642ac8050f2f",
   "metadata": {},
   "outputs": [
    {
     "data": {
      "text/html": [
       "<div>\n",
       "<style scoped>\n",
       "    .dataframe tbody tr th:only-of-type {\n",
       "        vertical-align: middle;\n",
       "    }\n",
       "\n",
       "    .dataframe tbody tr th {\n",
       "        vertical-align: top;\n",
       "    }\n",
       "\n",
       "    .dataframe thead th {\n",
       "        text-align: right;\n",
       "    }\n",
       "</style>\n",
       "<table border=\"1\" class=\"dataframe\">\n",
       "  <thead>\n",
       "    <tr style=\"text-align: right;\">\n",
       "      <th></th>\n",
       "      <th>Q</th>\n",
       "      <th>label</th>\n",
       "    </tr>\n",
       "  </thead>\n",
       "  <tbody>\n",
       "    <tr>\n",
       "      <th>5290</th>\n",
       "      <td>1000일 만난 여자친구와 이별</td>\n",
       "      <td>0</td>\n",
       "    </tr>\n",
       "    <tr>\n",
       "      <th>5291</th>\n",
       "      <td>10년 연애. 헤어졌습니다.</td>\n",
       "      <td>0</td>\n",
       "    </tr>\n",
       "    <tr>\n",
       "      <th>5292</th>\n",
       "      <td>10년 연애사 되돌아보니 다 부질없네</td>\n",
       "      <td>0</td>\n",
       "    </tr>\n",
       "    <tr>\n",
       "      <th>5293</th>\n",
       "      <td>10년 연예의끝</td>\n",
       "      <td>0</td>\n",
       "    </tr>\n",
       "    <tr>\n",
       "      <th>5294</th>\n",
       "      <td>10년만나다 헤어지네</td>\n",
       "      <td>0</td>\n",
       "    </tr>\n",
       "  </tbody>\n",
       "</table>\n",
       "</div>"
      ],
      "text/plain": [
       "                         Q  label\n",
       "5290     1000일 만난 여자친구와 이별      0\n",
       "5291       10년 연애. 헤어졌습니다.      0\n",
       "5292  10년 연애사 되돌아보니 다 부질없네      0\n",
       "5293              10년 연예의끝      0\n",
       "5294           10년만나다 헤어지네      0"
      ]
     },
     "execution_count": 110,
     "metadata": {},
     "output_type": "execute_result"
    }
   ],
   "source": [
    "df_negative = df_need[df_need.label == 0]\n",
    "df_negative.head()"
   ]
  },
  {
   "cell_type": "code",
   "execution_count": 111,
   "id": "104d1d11-3e81-4fb2-be75-19177b5ef753",
   "metadata": {},
   "outputs": [
    {
     "name": "stdout",
     "output_type": "stream",
     "text": [
      "데이터 갯수\n",
      "positive: 2963\n",
      "negative: 3570\n",
      "2963으로 설정\n"
     ]
    }
   ],
   "source": [
    "print(f\"데이터 갯수\\npositive: {df_positive['label'].count()}\\nnegative: {df_negative['label'].count()}\")\n",
    "MIN_LEN = min(df_positive['label'].count(), df_negative['label'].count())\n",
    "print(f\"{MIN_LEN}으로 설정\")"
   ]
  },
  {
   "cell_type": "code",
   "execution_count": 112,
   "id": "95960f0f-8f72-4345-a81d-f5f7d22a826f",
   "metadata": {},
   "outputs": [
    {
     "data": {
      "text/html": [
       "<div>\n",
       "<style scoped>\n",
       "    .dataframe tbody tr th:only-of-type {\n",
       "        vertical-align: middle;\n",
       "    }\n",
       "\n",
       "    .dataframe tbody tr th {\n",
       "        vertical-align: top;\n",
       "    }\n",
       "\n",
       "    .dataframe thead th {\n",
       "        text-align: right;\n",
       "    }\n",
       "</style>\n",
       "<table border=\"1\" class=\"dataframe\">\n",
       "  <thead>\n",
       "    <tr style=\"text-align: right;\">\n",
       "      <th></th>\n",
       "      <th>Q</th>\n",
       "      <th>label</th>\n",
       "    </tr>\n",
       "  </thead>\n",
       "  <tbody>\n",
       "    <tr>\n",
       "      <th>0</th>\n",
       "      <td>하아 너무 많이 힘드네 ㅜㅜ</td>\n",
       "      <td>0</td>\n",
       "    </tr>\n",
       "    <tr>\n",
       "      <th>1</th>\n",
       "      <td>하아 다시 또 터진 눈물</td>\n",
       "      <td>0</td>\n",
       "    </tr>\n",
       "    <tr>\n",
       "      <th>2</th>\n",
       "      <td>혼자 있는 시간이 정말 힘드네</td>\n",
       "      <td>0</td>\n",
       "    </tr>\n",
       "    <tr>\n",
       "      <th>3</th>\n",
       "      <td>상처준 사람 잘살고 있더라.</td>\n",
       "      <td>0</td>\n",
       "    </tr>\n",
       "    <tr>\n",
       "      <th>4</th>\n",
       "      <td>제가 이상한 건가요?</td>\n",
       "      <td>0</td>\n",
       "    </tr>\n",
       "  </tbody>\n",
       "</table>\n",
       "</div>"
      ],
      "text/plain": [
       "                  Q  label\n",
       "0   하아 너무 많이 힘드네 ㅜㅜ      0\n",
       "1     하아 다시 또 터진 눈물      0\n",
       "2  혼자 있는 시간이 정말 힘드네      0\n",
       "3   상처준 사람 잘살고 있더라.      0\n",
       "4       제가 이상한 건가요?      0"
      ]
     },
     "execution_count": 112,
     "metadata": {},
     "output_type": "execute_result"
    }
   ],
   "source": [
    "df_negative = df_negative.sample(frac=1).reset_index(drop=True)\n",
    "df_negative.head()"
   ]
  },
  {
   "cell_type": "code",
   "execution_count": 113,
   "id": "e7cd17b9-7ea8-437d-ad33-7603f0ef075d",
   "metadata": {},
   "outputs": [],
   "source": [
    "df_negative= df_negative.iloc[:MIN_LEN,:]\n",
    "df_positive = df_positive.iloc[:MIN_LEN,:]"
   ]
  },
  {
   "cell_type": "code",
   "execution_count": 115,
   "id": "a6fd71c0-7d4c-418e-a46d-28732f9f7726",
   "metadata": {},
   "outputs": [
    {
     "data": {
      "text/plain": [
       "(Q        2963\n",
       " label    2963\n",
       " dtype: int64,\n",
       " Q        2963\n",
       " label    2963\n",
       " dtype: int64)"
      ]
     },
     "execution_count": 115,
     "metadata": {},
     "output_type": "execute_result"
    }
   ],
   "source": [
    "df_negative.count(), df_positive.count()"
   ]
  },
  {
   "cell_type": "code",
   "execution_count": 118,
   "id": "0c7c637f-9f2e-4d6d-b373-2067ba2f006d",
   "metadata": {},
   "outputs": [],
   "source": [
    "df_shuffled = pd.concat([df_negative,df_positive])"
   ]
  },
  {
   "cell_type": "code",
   "execution_count": 120,
   "id": "5f3d3f18-d4d6-415f-a843-c6296d867da4",
   "metadata": {},
   "outputs": [
    {
     "data": {
      "text/html": [
       "<div>\n",
       "<style scoped>\n",
       "    .dataframe tbody tr th:only-of-type {\n",
       "        vertical-align: middle;\n",
       "    }\n",
       "\n",
       "    .dataframe tbody tr th {\n",
       "        vertical-align: top;\n",
       "    }\n",
       "\n",
       "    .dataframe thead th {\n",
       "        text-align: right;\n",
       "    }\n",
       "</style>\n",
       "<table border=\"1\" class=\"dataframe\">\n",
       "  <thead>\n",
       "    <tr style=\"text-align: right;\">\n",
       "      <th></th>\n",
       "      <th>Q</th>\n",
       "      <th>label</th>\n",
       "    </tr>\n",
       "  </thead>\n",
       "  <tbody>\n",
       "    <tr>\n",
       "      <th>0</th>\n",
       "      <td>하아 너무 많이 힘드네 ㅜㅜ</td>\n",
       "      <td>0</td>\n",
       "    </tr>\n",
       "    <tr>\n",
       "      <th>1</th>\n",
       "      <td>하아 다시 또 터진 눈물</td>\n",
       "      <td>0</td>\n",
       "    </tr>\n",
       "    <tr>\n",
       "      <th>2</th>\n",
       "      <td>혼자 있는 시간이 정말 힘드네</td>\n",
       "      <td>0</td>\n",
       "    </tr>\n",
       "    <tr>\n",
       "      <th>3</th>\n",
       "      <td>상처준 사람 잘살고 있더라.</td>\n",
       "      <td>0</td>\n",
       "    </tr>\n",
       "    <tr>\n",
       "      <th>4</th>\n",
       "      <td>제가 이상한 건가요?</td>\n",
       "      <td>0</td>\n",
       "    </tr>\n",
       "    <tr>\n",
       "      <th>...</th>\n",
       "      <td>...</td>\n",
       "      <td>...</td>\n",
       "    </tr>\n",
       "    <tr>\n",
       "      <th>11818</th>\n",
       "      <td>훔쳐보는 것도 눈치 보임.</td>\n",
       "      <td>1</td>\n",
       "    </tr>\n",
       "    <tr>\n",
       "      <th>11819</th>\n",
       "      <td>훔쳐보는 것도 눈치 보임.</td>\n",
       "      <td>1</td>\n",
       "    </tr>\n",
       "    <tr>\n",
       "      <th>11820</th>\n",
       "      <td>흑기사 해주는 짝남.</td>\n",
       "      <td>1</td>\n",
       "    </tr>\n",
       "    <tr>\n",
       "      <th>11821</th>\n",
       "      <td>힘든 연애 좋은 연애라는게 무슨 차이일까?</td>\n",
       "      <td>1</td>\n",
       "    </tr>\n",
       "    <tr>\n",
       "      <th>11822</th>\n",
       "      <td>힘들어서 결혼할까봐</td>\n",
       "      <td>1</td>\n",
       "    </tr>\n",
       "  </tbody>\n",
       "</table>\n",
       "<p>5926 rows × 2 columns</p>\n",
       "</div>"
      ],
      "text/plain": [
       "                             Q  label\n",
       "0              하아 너무 많이 힘드네 ㅜㅜ      0\n",
       "1                하아 다시 또 터진 눈물      0\n",
       "2             혼자 있는 시간이 정말 힘드네      0\n",
       "3              상처준 사람 잘살고 있더라.      0\n",
       "4                  제가 이상한 건가요?      0\n",
       "...                        ...    ...\n",
       "11818           훔쳐보는 것도 눈치 보임.      1\n",
       "11819           훔쳐보는 것도 눈치 보임.      1\n",
       "11820              흑기사 해주는 짝남.      1\n",
       "11821  힘든 연애 좋은 연애라는게 무슨 차이일까?      1\n",
       "11822               힘들어서 결혼할까봐      1\n",
       "\n",
       "[5926 rows x 2 columns]"
      ]
     },
     "execution_count": 120,
     "metadata": {},
     "output_type": "execute_result"
    }
   ],
   "source": [
    "df_shuffled"
   ]
  },
  {
   "cell_type": "code",
   "execution_count": 121,
   "id": "088ad66d-1c83-4da2-91c0-a4773370b2ce",
   "metadata": {},
   "outputs": [
    {
     "data": {
      "text/html": [
       "<div>\n",
       "<style scoped>\n",
       "    .dataframe tbody tr th:only-of-type {\n",
       "        vertical-align: middle;\n",
       "    }\n",
       "\n",
       "    .dataframe tbody tr th {\n",
       "        vertical-align: top;\n",
       "    }\n",
       "\n",
       "    .dataframe thead th {\n",
       "        text-align: right;\n",
       "    }\n",
       "</style>\n",
       "<table border=\"1\" class=\"dataframe\">\n",
       "  <thead>\n",
       "    <tr style=\"text-align: right;\">\n",
       "      <th></th>\n",
       "      <th>Q</th>\n",
       "      <th>label</th>\n",
       "    </tr>\n",
       "  </thead>\n",
       "  <tbody>\n",
       "    <tr>\n",
       "      <th>0</th>\n",
       "      <td>명품선물 꼭 해야할까?</td>\n",
       "      <td>1</td>\n",
       "    </tr>\n",
       "    <tr>\n",
       "      <th>1</th>\n",
       "      <td>보고싶은데</td>\n",
       "      <td>0</td>\n",
       "    </tr>\n",
       "    <tr>\n",
       "      <th>2</th>\n",
       "      <td>그 사람이 저를 그만 좋아하게 하는 방법 있을까요?</td>\n",
       "      <td>1</td>\n",
       "    </tr>\n",
       "    <tr>\n",
       "      <th>3</th>\n",
       "      <td>짝사랑 중인데 나혼자 드라마 찍음.</td>\n",
       "      <td>1</td>\n",
       "    </tr>\n",
       "    <tr>\n",
       "      <th>4</th>\n",
       "      <td>썸타는거 친구한테 이야기 한고 싶다.</td>\n",
       "      <td>0</td>\n",
       "    </tr>\n",
       "    <tr>\n",
       "      <th>...</th>\n",
       "      <td>...</td>\n",
       "      <td>...</td>\n",
       "    </tr>\n",
       "    <tr>\n",
       "      <th>5921</th>\n",
       "      <td>좋아하는데 자꾸 짜증나기도 해.</td>\n",
       "      <td>1</td>\n",
       "    </tr>\n",
       "    <tr>\n",
       "      <th>5922</th>\n",
       "      <td>여자친구가 힘들어하는데 내가 뭘 해줄 수 있을까?</td>\n",
       "      <td>1</td>\n",
       "    </tr>\n",
       "    <tr>\n",
       "      <th>5923</th>\n",
       "      <td>썸 타는 것도 귀찮아.</td>\n",
       "      <td>1</td>\n",
       "    </tr>\n",
       "    <tr>\n",
       "      <th>5924</th>\n",
       "      <td>비오는데 우산 챙겨 갔는지 모르겠네</td>\n",
       "      <td>0</td>\n",
       "    </tr>\n",
       "    <tr>\n",
       "      <th>5925</th>\n",
       "      <td>내가 너무 몰아붙였나봐</td>\n",
       "      <td>1</td>\n",
       "    </tr>\n",
       "  </tbody>\n",
       "</table>\n",
       "<p>5926 rows × 2 columns</p>\n",
       "</div>"
      ],
      "text/plain": [
       "                                 Q  label\n",
       "0                     명품선물 꼭 해야할까?      1\n",
       "1                            보고싶은데      0\n",
       "2     그 사람이 저를 그만 좋아하게 하는 방법 있을까요?      1\n",
       "3              짝사랑 중인데 나혼자 드라마 찍음.      1\n",
       "4             썸타는거 친구한테 이야기 한고 싶다.      0\n",
       "...                            ...    ...\n",
       "5921             좋아하는데 자꾸 짜증나기도 해.      1\n",
       "5922   여자친구가 힘들어하는데 내가 뭘 해줄 수 있을까?      1\n",
       "5923                  썸 타는 것도 귀찮아.      1\n",
       "5924           비오는데 우산 챙겨 갔는지 모르겠네      0\n",
       "5925                  내가 너무 몰아붙였나봐      1\n",
       "\n",
       "[5926 rows x 2 columns]"
      ]
     },
     "execution_count": 121,
     "metadata": {},
     "output_type": "execute_result"
    }
   ],
   "source": [
    "df_shuffled = df_shuffled.sample(frac=1).reset_index(drop=True)  # 행 섞기\n",
    "df_shuffled # 확인용 출력"
   ]
  },
  {
   "cell_type": "code",
   "execution_count": 122,
   "id": "77c9c692-e5cc-4ef9-afa9-aac630b965d5",
   "metadata": {},
   "outputs": [
    {
     "data": {
      "text/plain": [
       "array([1, 0, 1, ..., 1, 0, 1])"
      ]
     },
     "execution_count": 122,
     "metadata": {},
     "output_type": "execute_result"
    }
   ],
   "source": [
    "df_shuffled['label'].values"
   ]
  },
  {
   "cell_type": "code",
   "execution_count": 124,
   "id": "bc9b0c06-7b73-4151-8240-d6f439a6a76d",
   "metadata": {},
   "outputs": [
    {
     "data": {
      "text/html": [
       "<div>\n",
       "<style scoped>\n",
       "    .dataframe tbody tr th:only-of-type {\n",
       "        vertical-align: middle;\n",
       "    }\n",
       "\n",
       "    .dataframe tbody tr th {\n",
       "        vertical-align: top;\n",
       "    }\n",
       "\n",
       "    .dataframe thead th {\n",
       "        text-align: right;\n",
       "    }\n",
       "</style>\n",
       "<table border=\"1\" class=\"dataframe\">\n",
       "  <thead>\n",
       "    <tr style=\"text-align: right;\">\n",
       "      <th></th>\n",
       "      <th>Q</th>\n",
       "      <th>label</th>\n",
       "    </tr>\n",
       "  </thead>\n",
       "  <tbody>\n",
       "    <tr>\n",
       "      <th>0</th>\n",
       "      <td>명품선물 꼭 해야할까?</td>\n",
       "      <td>1</td>\n",
       "    </tr>\n",
       "    <tr>\n",
       "      <th>1</th>\n",
       "      <td>보고싶은데</td>\n",
       "      <td>0</td>\n",
       "    </tr>\n",
       "    <tr>\n",
       "      <th>2</th>\n",
       "      <td>그 사람이 저를 그만 좋아하게 하는 방법 있을까요?</td>\n",
       "      <td>1</td>\n",
       "    </tr>\n",
       "    <tr>\n",
       "      <th>3</th>\n",
       "      <td>짝사랑 중인데 나혼자 드라마 찍음.</td>\n",
       "      <td>1</td>\n",
       "    </tr>\n",
       "    <tr>\n",
       "      <th>4</th>\n",
       "      <td>썸타는거 친구한테 이야기 한고 싶다.</td>\n",
       "      <td>0</td>\n",
       "    </tr>\n",
       "  </tbody>\n",
       "</table>\n",
       "</div>"
      ],
      "text/plain": [
       "                              Q  label\n",
       "0                  명품선물 꼭 해야할까?      1\n",
       "1                         보고싶은데      0\n",
       "2  그 사람이 저를 그만 좋아하게 하는 방법 있을까요?      1\n",
       "3           짝사랑 중인데 나혼자 드라마 찍음.      1\n",
       "4          썸타는거 친구한테 이야기 한고 싶다.      0"
      ]
     },
     "execution_count": 124,
     "metadata": {},
     "output_type": "execute_result"
    }
   ],
   "source": [
    "df.head()"
   ]
  },
  {
   "cell_type": "code",
   "execution_count": 126,
   "id": "5e45778e-f34d-4cfd-a3a1-d70b186a52ac",
   "metadata": {},
   "outputs": [],
   "source": [
    "df = df_shuffled #최종 확인 후 덮어쓰기"
   ]
  },
  {
   "cell_type": "code",
   "execution_count": 127,
   "id": "4513b36b-c51b-414e-8ee0-2a81f295e6b0",
   "metadata": {},
   "outputs": [
    {
     "data": {
      "text/plain": [
       "0       1\n",
       "1       0\n",
       "2       1\n",
       "3       1\n",
       "4       0\n",
       "       ..\n",
       "5921    1\n",
       "5922    1\n",
       "5923    1\n",
       "5924    0\n",
       "5925    1\n",
       "Name: label, Length: 5926, dtype: int64"
      ]
     },
     "execution_count": 127,
     "metadata": {},
     "output_type": "execute_result"
    }
   ],
   "source": [
    "df['label']"
   ]
  },
  {
   "cell_type": "code",
   "execution_count": 131,
   "id": "484528ea-6edc-4213-bb42-d32dad5b2106",
   "metadata": {},
   "outputs": [],
   "source": [
    "# 섞은 데이터를 train, test로 나눈다\n",
    "labels = df['label'].values\n",
    "# labels = torch.tensor(labels)"
   ]
  },
  {
   "cell_type": "code",
   "execution_count": 133,
   "id": "fca8460e-241a-4c4d-a068-5726d47fcd44",
   "metadata": {},
   "outputs": [
    {
     "name": "stdout",
     "output_type": "stream",
     "text": [
      "부정 갯수:  2963\n",
      "긍정 갯수:  2963\n"
     ]
    }
   ],
   "source": [
    "labels_arr = labels.tolist()\n",
    "print(\"부정 갯수: \", labels_arr.count(0))\n",
    "print(\"긍정 갯수: \", labels_arr.count(1))"
   ]
  },
  {
   "cell_type": "code",
   "execution_count": 134,
   "id": "6b74fab3-d394-4e61-b81a-458e42ceb3e1",
   "metadata": {},
   "outputs": [],
   "source": [
    "from sklearn.model_selection import train_test_split"
   ]
  },
  {
   "cell_type": "code",
   "execution_count": 135,
   "id": "d72e9984-6856-4ab5-b9a9-0b672f822c8a",
   "metadata": {},
   "outputs": [],
   "source": [
    "X_train, X_test, y_train, y_test = train_test_split(df['Q'], labels, random_state=42, test_size=0.2)"
   ]
  },
  {
   "cell_type": "code",
   "execution_count": 136,
   "id": "97415709-c811-4a98-a433-5c2db7a496b4",
   "metadata": {},
   "outputs": [
    {
     "data": {
      "text/plain": [
       "429                         그놈 생일이예요\n",
       "5474                      생일축하했다 바보야\n",
       "3616            썸 타는데 사랑하다고 말할 수 있음?\n",
       "5413    짝남이랑 끝났는데 그래도 매일 볼 수 있어서 좋아.\n",
       "2784                            썸일까?\n",
       "                    ...             \n",
       "3772                        우리서로 애써봐\n",
       "5191     좋아하는 여선배가 있는데 말할 수도 없고 어떡함.\n",
       "5226                            약 올라\n",
       "5390                  결국 또 다시 이별이 오네\n",
       "860                  노래 듣는데 참 공감이 되네\n",
       "Name: Q, Length: 4740, dtype: object"
      ]
     },
     "execution_count": 136,
     "metadata": {},
     "output_type": "execute_result"
    }
   ],
   "source": [
    "X_train"
   ]
  },
  {
   "cell_type": "markdown",
   "id": "3423610d-18cb-4da3-ad5a-9330608515ea",
   "metadata": {},
   "source": [
    "### 토큰화"
   ]
  },
  {
   "cell_type": "code",
   "execution_count": 140,
   "id": "bcb1251a-b9e6-4ada-9f3b-ecf12ab0fb32",
   "metadata": {},
   "outputs": [],
   "source": [
    "# 토크나이저 불러오기\n",
    "tokenizer = BertTokenizer.from_pretrained('bert-base-multilingual-cased')"
   ]
  },
  {
   "cell_type": "code",
   "execution_count": 141,
   "id": "f9740241-1047-4833-bba9-5ba91d104882",
   "metadata": {},
   "outputs": [],
   "source": [
    "def encode(data, tokenizer):\n",
    "    input_ids = []\n",
    "    attention_masks = []\n",
    "    token_type_ids = []\n",
    " \n",
    "    for text in data:\n",
    "        tokenized_text = tokenizer.encode_plus(text,\n",
    "                                            max_length=50,\n",
    "                                            add_special_tokens = True,\n",
    "                                            pad_to_max_length=True,\n",
    "                                            return_attention_mask=True,\n",
    "                                              truncation=True)\n",
    "        \n",
    "        input_ids.append(tokenized_text['input_ids'])\n",
    "        attention_masks.append(tokenized_text['attention_mask'])\n",
    "        token_type_ids.append(tokenized_text['token_type_ids'])\n",
    "    \n",
    "    return input_ids, attention_masks, token_type_ids"
   ]
  },
  {
   "cell_type": "code",
   "execution_count": 142,
   "id": "ce578dea-f3fc-4617-b1af-cd353c07dc34",
   "metadata": {},
   "outputs": [],
   "source": [
    "#학습데이터 토큰화\n",
    "train_input_ids, train_attention_masks, train_token_type_ids = encode(X_train, tokenizer)\n",
    " \n",
    "#테스트데이터 토큰화\n",
    "test_input_ids, test_attention_masks, test_token_type_ids = encode(X_test, tokenizer)"
   ]
  },
  {
   "cell_type": "markdown",
   "id": "bc48b28f-481b-49f0-80b6-e6431ad6dbfe",
   "metadata": {},
   "source": [
    "여기서 attention_masks들은 모두 0만 가진 배열들\n",
    "\n",
    "BERT모델은 원래 두개의 문장을 입력받기 때문에 동일한 구조로 사용하기 위해서 해당 정보도 추출한다고 한다"
   ]
  },
  {
   "cell_type": "code",
   "execution_count": 143,
   "id": "2e965956-cde8-4ca3-a675-5570aac96eb0",
   "metadata": {},
   "outputs": [],
   "source": [
    "#학습데이터 토큰화\n",
    "train_input_ids, train_attention_masks, train_token_type_ids = encode(X_train, tokenizer)\n",
    " \n",
    "#테스트데이터 토큰화\n",
    "test_input_ids, test_attention_masks, test_token_type_ids = encode(X_test, tokenizer)\n"
   ]
  },
  {
   "cell_type": "markdown",
   "id": "e7674f98-09f4-47d7-b3c8-948eb06367de",
   "metadata": {},
   "source": [
    "### 데이터 형태 변경\n",
    "\n",
    "Bert에 입력하기 위해 데이터 형태를 딕셔너리로 변경"
   ]
  },
  {
   "cell_type": "code",
   "execution_count": 144,
   "id": "980919a7-52ca-4c34-9db4-393bdc7d6980",
   "metadata": {},
   "outputs": [],
   "source": [
    "#딕셔너리 형태로 변환해서 출력 \n",
    "def map_example_to_dict(input_ids, attention_masks, token_type_ids, label):\n",
    "    return {\n",
    "      \"input_ids\": input_ids,\n",
    "      \"token_type_ids\": token_type_ids,\n",
    "      \"attention_mask\": attention_masks,\n",
    "      }, label\n",
    "      \n",
    " #데이터를 BERT에 넣을 수 있는 형태로 변경 \n",
    "def data_encode(input_ids_list, attention_mask_list, token_type_ids_list, label_list):\n",
    "    return tf.data.Dataset.from_tensor_slices((input_ids_list, attention_mask_list, token_type_ids_list, label_list)).map(map_example_to_dict)"
   ]
  },
  {
   "cell_type": "code",
   "execution_count": 33,
   "id": "68ca9cc9-bf48-4be7-8358-748cd4da84a6",
   "metadata": {},
   "outputs": [],
   "source": [
    "BATCH_SIZE = 32\n",
    " \n",
    "#학습 데이터\n",
    "train_data_encoded = data_encode(train_input_ids, train_attention_masks, train_token_type_ids,y_train).shuffle(10000).batch(BATCH_SIZE)\n",
    " \n",
    "#평가 데이터\n",
    "test_data_encoded = data_encode(test_input_ids, test_attention_masks, test_token_type_ids, y_test).batch(BATCH_SIZE)"
   ]
  },
  {
   "cell_type": "markdown",
   "id": "b0de2f99-8eb3-45fc-8ad6-176f59508316",
   "metadata": {},
   "source": [
    "### 모델 학습"
   ]
  },
  {
   "cell_type": "code",
   "execution_count": 147,
   "id": "2b024292-a895-45ba-a03a-68246d554393",
   "metadata": {},
   "outputs": [
    {
     "name": "stderr",
     "output_type": "stream",
     "text": [
      "All PyTorch model weights were used when initializing TFBertForSequenceClassification.\n",
      "\n",
      "Some weights or buffers of the TF 2.0 model TFBertForSequenceClassification were not initialized from the PyTorch model and are newly initialized: ['classifier.weight', 'classifier.bias']\n",
      "You should probably TRAIN this model on a down-stream task to be able to use it for predictions and inference.\n"
     ]
    }
   ],
   "source": [
    "model = TFBertForSequenceClassification.from_pretrained(\n",
    "    \"bert-base-multilingual-cased\", \n",
    "    num_labels = 2,\n",
    ")"
   ]
  },
  {
   "cell_type": "code",
   "execution_count": 148,
   "id": "59771526-0385-4c2e-b2c2-9fb68d3859fc",
   "metadata": {},
   "outputs": [
    {
     "data": {
      "text/plain": [
       "<transformers.models.bert.modeling_tf_bert.TFBertForSequenceClassification at 0x7f06b67d5690>"
      ]
     },
     "execution_count": 148,
     "metadata": {},
     "output_type": "execute_result"
    }
   ],
   "source": [
    "model"
   ]
  },
  {
   "cell_type": "code",
   "execution_count": 149,
   "id": "2bbdefdf-e61e-4240-81b3-cd970fe99749",
   "metadata": {},
   "outputs": [
    {
     "name": "stdout",
     "output_type": "stream",
     "text": [
      "Epoch 1/25\n",
      "149/149 [==============================] - 80s 294ms/step - loss: 0.3651 - accuracy: 0.8323 - val_loss: 0.2268 - val_accuracy: 0.9047\n",
      "Epoch 2/25\n",
      "149/149 [==============================] - 40s 268ms/step - loss: 0.2076 - accuracy: 0.9165 - val_loss: 0.2014 - val_accuracy: 0.9148\n",
      "Epoch 3/25\n",
      "149/149 [==============================] - 40s 269ms/step - loss: 0.1470 - accuracy: 0.9475 - val_loss: 0.2003 - val_accuracy: 0.9283\n",
      "Epoch 4/25\n",
      "149/149 [==============================] - 40s 269ms/step - loss: 0.1023 - accuracy: 0.9643 - val_loss: 0.2736 - val_accuracy: 0.9199\n",
      "Epoch 5/25\n",
      "149/149 [==============================] - 40s 268ms/step - loss: 0.0855 - accuracy: 0.9717 - val_loss: 0.2381 - val_accuracy: 0.9275\n",
      "Epoch 6/25\n",
      "149/149 [==============================] - 40s 268ms/step - loss: 0.0595 - accuracy: 0.9816 - val_loss: 0.2579 - val_accuracy: 0.9250\n",
      "Epoch 7/25\n",
      "149/149 [==============================] - 40s 266ms/step - loss: 0.0391 - accuracy: 0.9859 - val_loss: 0.2938 - val_accuracy: 0.9266\n",
      "Epoch 8/25\n",
      "149/149 [==============================] - 40s 268ms/step - loss: 0.0372 - accuracy: 0.9890 - val_loss: 0.3252 - val_accuracy: 0.9309\n",
      "Epoch 9/25\n",
      "149/149 [==============================] - 40s 267ms/step - loss: 0.0350 - accuracy: 0.9871 - val_loss: 0.3266 - val_accuracy: 0.9258\n",
      "Epoch 10/25\n",
      "149/149 [==============================] - 40s 268ms/step - loss: 0.0243 - accuracy: 0.9922 - val_loss: 0.3473 - val_accuracy: 0.9224\n",
      "Epoch 11/25\n",
      "149/149 [==============================] - 40s 268ms/step - loss: 0.0253 - accuracy: 0.9911 - val_loss: 0.3775 - val_accuracy: 0.9165\n",
      "Epoch 12/25\n",
      "149/149 [==============================] - 40s 268ms/step - loss: 0.0216 - accuracy: 0.9928 - val_loss: 0.3297 - val_accuracy: 0.9317\n",
      "Epoch 13/25\n",
      "149/149 [==============================] - 40s 268ms/step - loss: 0.0135 - accuracy: 0.9949 - val_loss: 0.3980 - val_accuracy: 0.9148\n",
      "Epoch 14/25\n",
      "149/149 [==============================] - 40s 268ms/step - loss: 0.0120 - accuracy: 0.9962 - val_loss: 0.3790 - val_accuracy: 0.9325\n",
      "Epoch 15/25\n",
      "149/149 [==============================] - 40s 268ms/step - loss: 0.0223 - accuracy: 0.9924 - val_loss: 0.3352 - val_accuracy: 0.9292\n",
      "Epoch 16/25\n",
      "149/149 [==============================] - 40s 268ms/step - loss: 0.0140 - accuracy: 0.9954 - val_loss: 0.4053 - val_accuracy: 0.9266\n",
      "Epoch 17/25\n",
      "149/149 [==============================] - 40s 268ms/step - loss: 0.0161 - accuracy: 0.9949 - val_loss: 0.3464 - val_accuracy: 0.9250\n",
      "Epoch 18/25\n",
      "149/149 [==============================] - 40s 268ms/step - loss: 0.0078 - accuracy: 0.9975 - val_loss: 0.4290 - val_accuracy: 0.9300\n",
      "Epoch 19/25\n",
      "149/149 [==============================] - 40s 267ms/step - loss: 0.0185 - accuracy: 0.9941 - val_loss: 0.3806 - val_accuracy: 0.9157\n",
      "Epoch 20/25\n",
      "149/149 [==============================] - 40s 266ms/step - loss: 0.0136 - accuracy: 0.9947 - val_loss: 0.3470 - val_accuracy: 0.9300\n",
      "Epoch 21/25\n",
      "149/149 [==============================] - 40s 267ms/step - loss: 0.0098 - accuracy: 0.9960 - val_loss: 0.3822 - val_accuracy: 0.9266\n",
      "Epoch 22/25\n",
      "149/149 [==============================] - 40s 268ms/step - loss: 0.0127 - accuracy: 0.9954 - val_loss: 0.3601 - val_accuracy: 0.9359\n",
      "Epoch 23/25\n",
      "149/149 [==============================] - 40s 267ms/step - loss: 0.0050 - accuracy: 0.9983 - val_loss: 0.4188 - val_accuracy: 0.9359\n",
      "Epoch 24/25\n",
      "149/149 [==============================] - 40s 266ms/step - loss: 0.0103 - accuracy: 0.9968 - val_loss: 0.3636 - val_accuracy: 0.9292\n",
      "Epoch 25/25\n",
      "149/149 [==============================] - 40s 267ms/step - loss: 0.0106 - accuracy: 0.9964 - val_loss: 0.3608 - val_accuracy: 0.9317\n"
     ]
    }
   ],
   "source": [
    "optimizer = tf.keras.optimizers.Adam(1e-5)\n",
    "loss = tf.keras.losses.SparseCategoricalCrossentropy(from_logits=True)\n",
    "metric = tf.keras.metrics.SparseCategoricalAccuracy('accuracy')\n",
    "model.compile(optimizer=optimizer, loss=loss, metrics=[metric])\n",
    "NUM_EPOCHS = 25\n",
    "history = model.fit(train_data_encoded, epochs=NUM_EPOCHS, batch_size=BATCH_SIZE, validation_data=test_data_encoded)"
   ]
  },
  {
   "cell_type": "code",
   "execution_count": 150,
   "id": "971d7b5a-32de-4ab2-ac79-1c76683a9572",
   "metadata": {},
   "outputs": [
    {
     "data": {
      "image/png": "[encoded data removed]",
      "text/plain": [
       "<Figure size 640x480 with 1 Axes>"
      ]
     },
     "metadata": {},
     "output_type": "display_data"
    }
   ],
   "source": [
    "#loss 확인\n",
    " \n",
    "import matplotlib.pyplot as plt\n",
    "plt.plot(history.history['loss'])\n",
    "plt.plot(history.history['val_loss'])\n",
    "plt.xlabel('epoch')\n",
    "plt.ylabel('loss')\n",
    "plt.legend(['train','val'])\n",
    "plt.show()"
   ]
  },
  {
   "cell_type": "code",
   "execution_count": 156,
   "id": "1a2a88ba-9ab5-4224-9d5b-729d5451c3b3",
   "metadata": {},
   "outputs": [],
   "source": [
    "model.save_pretrained('guru_model.h5')"
   ]
  }
 ],
 "metadata": {
  "kernelspec": {
   "display_name": "Python 3 (ipykernel)",
   "language": "python",
   "name": "python3"
  },
  "language_info": {
   "codemirror_mode": {
    "name": "ipython",
    "version": 3
   },
   "file_extension": ".py",
   "mimetype": "text/x-python",
   "name": "python",
   "nbconvert_exporter": "python",
   "pygments_lexer": "ipython3",
   "version": "3.10.10"
  }
 },
 "nbformat": 4,
 "nbformat_minor": 5
}
